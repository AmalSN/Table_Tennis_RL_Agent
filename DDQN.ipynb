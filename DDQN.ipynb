{
 "cells": [
  {
   "cell_type": "markdown",
   "metadata": {},
   "source": [
    "\n",
    "### ✅ Recommended DQN Improvements\n",
    "\n",
    "- Increase hidden units in DQN network to 128\n",
    "- Increase replay memory size to 100,000\n",
    "- Increase batch size to 128\n",
    "- Slow down epsilon decay to 0.999\n",
    "- Increase max episodes to 5000\n",
    "- Expand discrete action space to better approximate continuous controls\n",
    "- Reduce learning rate to 5e-4\n",
    "- Update target network every 1 episode\n"
   ]
  },
  {
   "cell_type": "markdown",
   "metadata": {},
   "source": [
    "# DDQN"
   ]
  },
  {
   "cell_type": "code",
   "execution_count": null,
   "metadata": {},
   "outputs": [],
   "source": [
    "from unityagents import UnityEnvironment\n",
    "import numpy as np\n",
    "import torch\n",
    "import torch.nn as nn\n",
    "import torch.optim as optim\n",
    "import random\n",
    "from collections import deque\n",
    "import os\n",
    "import matplotlib.pyplot as plt"
   ]
  },
  {
   "cell_type": "markdown",
   "metadata": {},
   "source": [
    "## Environment Setup"
   ]
  },
  {
   "cell_type": "code",
   "execution_count": null,
   "metadata": {},
   "outputs": [],
   "source": [
    "env = UnityEnvironment(file_name=\"Tennis.x86\") # This is how the Unity environment is initialized\n",
    "brain_name = env.brain_names[0]\n",
    "brain = env.brains[brain_name]\n",
    "env_info = env.reset(train_mode=True)[brain_name]\n",
    "discrete_actions = [(-1,0),(1,0),(0,1),(0,-1)]"
   ]
  },
  {
   "cell_type": "markdown",
   "metadata": {},
   "source": [
    "## DQN Agent Class"
   ]
  },
  {
   "cell_type": "code",
   "execution_count": null,
   "metadata": {},
   "outputs": [],
   "source": [
    "class DQN(nn.Module):\n",
    "    def __init__(self):\n",
    "        super(DQN, self).__init__()\n",
    "        self.fc1 = nn.Linear(24, 64)\n",
    "        self.fc2 = nn.Linear(64, 64)\n",
    "        self.fc3 = nn.Linear(64, 4)\n",
    "\n",
    "    def forward(self, x):\n",
    "        x = torch.relu(self.fc1(x))\n",
    "        x = torch.relu(self.fc2(x))\n",
    "        return self.fc3(x)\n",
    "\n",
    "class DDQNAgent:\n",
    "    def __init__(self, seed=0, load_path=None):\n",
    "        self.device = torch.device(\"cuda\" if torch.cuda.is_available() else \"cpu\")\n",
    "        self.q_network = DQN().to(self.device)\n",
    "        self.target_network = DQN().to(self.device)\n",
    "        self.optimizer = optim.Adam(self.q_network.parameters(), lr=0.0005)\n",
    "        if load_path and os.path.exists(load_path):\n",
    "            self.q_network.load_state_dict(torch.load(load_path))\n",
    "            self.target_network.load_state_dict(torch.load(load_path))\n",
    "        for target_param, local_param in zip(self.target_network.parameters(), self.q_network.parameters()):\n",
    "            target_param.data.copy_(local_param.data)\n",
    "        self.replay_mem = deque(maxlen=100000)\n",
    "        self.bSize =128\n",
    "        self.gamma =0.99\n",
    "        self.max_ep = 1.0\n",
    "        self.minimum_ep = 0.01\n",
    "        self.decay_ep =0.999\n",
    "        self.target_up = 1\n",
    "        self.step_count = 0\n",
    "        torch.manual_seed(seed)\n",
    "        random.seed(seed)\n",
    "\n",
    "    def do_action(self, state):\n",
    "        state = torch.FloatTensor(state).unsqueeze(0).to(self.device)\n",
    "        self.q_network.eval()\n",
    "        with torch.no_grad():\n",
    "            action_values = self.q_network(state)\n",
    "        self.q_network.train()\n",
    "        if random.random() < self.max_ep:\n",
    "            return random.randint(0, 3)\n",
    "        return np.argmax(action_values.cpu().data.numpy())\n",
    "\n",
    "    def step(self, state, action, reward, next_state, done):\n",
    "        self.replay_mem.append((state, action, reward, next_state, done))\n",
    "        self.step_count += 1\n",
    "        if len(self.replay_mem) >= self.bSize and self.step_count % self.target_up == 0:\n",
    "            self.train()\n",
    "\n",
    "    def train(self):\n",
    "        experiences = random.sample(self.replay_mem, self.bSize)\n",
    "        states, actions, rewards, next_states, dones = zip(*experiences)\n",
    "        states = torch.FloatTensor(states).to(self.device)\n",
    "        actions = torch.LongTensor(actions).to(self.device)\n",
    "        rewards = torch.FloatTensor(rewards).to(self.device)\n",
    "        next_states = torch.FloatTensor(next_states).to(self.device)\n",
    "        dones = torch.FloatTensor(dones).to(self.device)\n",
    "\n",
    "        q_values = self.q_network(states).gather(1, actions.unsqueeze(1)).squeeze(1)\n",
    "\n",
    "        next_actions = self.q_network(next_states).max(1)[1].unsqueeze(1)\n",
    "        next_q_values = self.target_network(next_states).gather(1, next_actions).squeeze(1).detach()\n",
    "\n",
    "        targets = rewards + (self.gamma * next_q_values * (1 - dones))\n",
    "\n",
    "        loss = nn.MSELoss()(q_values, targets)\n",
    "        self.optimizer.zero_grad()\n",
    "        loss.backward()\n",
    "        self.optimizer.step()\n",
    "\n",
    "        for target_param, local_param in zip(self.target_network.parameters(), self.q_network.parameters()):\n",
    "            target_param.data.copy_(local_param.data)\n",
    "        self.max_ep = max(self.minimum_ep, self.max_ep * self.decay_ep)\n",
    "\n",
    "\n",
    "    def save_model(self, path):\n",
    "        torch.save(self.q_network.state_dict(), path)\n",
    "        print(f\"Saved model to {path}\")\n"
   ]
  },
  {
   "cell_type": "markdown",
   "metadata": {},
   "source": [
    "## Training and Testing Code"
   ]
  },
  {
   "cell_type": "code",
   "execution_count": null,
   "metadata": {},
   "outputs": [],
   "source": [
    "def train_dqn(episodes=5000, load_paths=None, save_interval=2000):\n",
    "    if load_paths and len(load_paths) == 2:\n",
    "        dqn_agents = [DDQNAgent(seed= i, load_path=load_paths[i]) \n",
    "                  for i in range(2)]\n",
    "    else:\n",
    "        dqn_agents =[DDQNAgent( seed=i) for i in range(2)]\n",
    "    scores_window =deque(maxlen=100)\n",
    "    final_scores =[]\n",
    "    # Main train loop\n",
    "    for episode in range(episodes):\n",
    "        env_info = env.reset(train_mode=True)[brain_name]\n",
    "        states = env_info.vector_observations\n",
    "        scores = np.zeros(2)\n",
    "        for step in range(1000):\n",
    "            actions_idx = [agent.do_action(states[i]) for i, agent in enumerate(dqn_agents)]\n",
    "            actions = np.array([discrete_actions[idx] for idx in actions_idx])\n",
    "            \n",
    "            env_info = env.step(actions)[brain_name]\n",
    "            next_states = env_info.vector_observations\n",
    "            rewards = env_info.rewards\n",
    "            dones = env_info.local_done\n",
    "            \n",
    "            for i, agent in enumerate(dqn_agents):\n",
    "                agent.step(states[i], actions_idx[i],rewards[i], next_states[i],dones[i])\n",
    "            states = next_states\n",
    "            scores += rewards\n",
    "            if np.any(dones):\n",
    "                break\n",
    "        avg_score =np.mean(scores)\n",
    "        scores_window.append(avg_score)\n",
    "        final_scores.append(avg_score)\n",
    "        print(f\"Episode {episode+1}/{episodes}, Avg Score: {avg_score}, Window Avg: {np.mean(scores_window)}\")\n",
    "        if (episode+ 1) %save_interval==0:\n",
    "            for i, agent in enumerate(dqn_agents):\n",
    "                agent.save_model(f\"ddqn_agent_{i}_ep{episode +1}.pth\")\n",
    "        \n",
    "        if episode>= 100 and np.mean(scores_window)>=0.5: #Environment Solved condition\n",
    "            print(f\"Environment solved. Episodes: {episodes+1} | Avg Score: {np.mean(scores_window):.3f}\")\n",
    "            for i, agent in enumerate(dqn_agents):\n",
    "                agent.save_model(f\"ddqn_agent_{i}_solved.pth\")\n",
    "            break\n",
    "    plt.figure(figsize=(10, 6))\n",
    "    plt.plot(range(1, len(final_scores)+1), final_scores, label='Average Reward')\n",
    "    plt.xlabel(\"Episode\")\n",
    "    plt.ylabel(\"Average Reward\")\n",
    "    plt.title(\"Training Reward per Episode\")\n",
    "    plt.legend()\n",
    "    plt.show()\n",
    "    return dqn_agents, final_scores\n",
    "\n",
    "def test_dqn(agents):\n",
    "    env_info =env.reset(train_mode=False)[brain_name]\n",
    "    states= env_info.vector_observations\n",
    "    scores =np.zeros(2)\n",
    "    for k in range(1000):\n",
    "        actions_idx = [agent.do_action(states[i]) for i,agent in enumerate(agents)]\n",
    "        actions = np.array([discrete_actions[idx] for idx in actions_idx])\n",
    "        env_info = env.step(actions)[brain_name]\n",
    "        states =env_info.vector_observations\n",
    "        scores+= env_info.rewards\n",
    "        if np.any(env_info.local_done):\n",
    "            break\n",
    "    print(f\"Test Avg Score: {np.mean(scores):.3f}\")\n"
   ]
  },
  {
   "cell_type": "markdown",
   "metadata": {},
   "source": [
    "## Training"
   ]
  },
  {
   "cell_type": "code",
   "execution_count": null,
   "metadata": {},
   "outputs": [],
   "source": [
    "# Start fresh training\n",
    "agents, scores = train_dqn(episodes=10000)\n",
    "    \n",
    "# load_paths = [\"dqn_agent_0_ep160000.pth\",\"dqn_agent_1_ep160000.pth\"]\n",
    "# agents, scores = train_dqn(episodes=1000, load_paths=load_paths)"
   ]
  },
  {
   "cell_type": "markdown",
   "metadata": {},
   "source": [
    "## Testing"
   ]
  },
  {
   "cell_type": "code",
   "execution_count": null,
   "metadata": {},
   "outputs": [],
   "source": [
    "test_dqn(agents)\n",
    "env.close()"
   ]
  }
 ],
 "metadata": {
  "kernelspec": {
   "display_name": "Python (rl_proj)",
   "language": "python",
   "name": "rl_proj"
  },
  "language_info": {
   "codemirror_mode": {
    "name": "ipython",
    "version": 3
   },
   "file_extension": ".py",
   "mimetype": "text/x-python",
   "name": "python",
   "nbconvert_exporter": "python",
   "pygments_lexer": "ipython3",
   "version": "3.6.13"
  }
 },
 "nbformat": 4,
 "nbformat_minor": 4
}
